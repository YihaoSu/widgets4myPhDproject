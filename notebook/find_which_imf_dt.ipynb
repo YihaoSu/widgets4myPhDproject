{
 "cells": [
  {
   "cell_type": "markdown",
   "metadata": {},
   "source": [
    "* Use functions, find_imf_by_freq() or find_imf_by_period(), to find wihch IMF corresponding to the significant oscillation if you know the time resolution of the oscillation and its frequency/period.\n",
    "* Use functions, find_dt_by_freq() or find_dt_by_period, to find what the time resolution your should extract to locate the significant oscillation in a specific IMF."
   ]
  },
  {
   "cell_type": "code",
   "execution_count": 1,
   "metadata": {
    "collapsed": false
   },
   "outputs": [],
   "source": [
    "import numpy as np\n",
    "\n",
    "\n",
    "def find_imf_by_freq(dt, freq):\n",
    "    npt = 3 * np.power(2, range(10))\n",
    "    #npt = 3 * np.geomspace(1, 512, 10)\n",
    "    period = 1. / freq\n",
    "    timescales = dt * npt\n",
    "    which_imf = np.abs(timescales - period).argmin() + 1\n",
    "    return which_imf, period, timescales\n",
    "\n",
    "def find_imf_by_period(dt, period):\n",
    "    npt = 3 * np.power(2, range(10))\n",
    "    timescales = dt * npt\n",
    "    which_imf = np.abs(timescales - period).argmin() + 1\n",
    "    return which_imf, period, timescales\n",
    "\n",
    "def find_dt_by_freq(which_imf, freq):\n",
    "    npt = 3 * np.power(2, range(10))\n",
    "    period = 1. / freq\n",
    "    dt = period / npt[which_imf-1]\n",
    "    return dt\n",
    "\n",
    "def find_dt_by_period(which_imf, period):\n",
    "    npt = 3 * np.power(2, range(10))\n",
    "    dt = period / npt[which_imf-1]\n",
    "    return dt"
   ]
  },
  {
   "cell_type": "code",
   "execution_count": 2,
   "metadata": {
    "collapsed": false
   },
   "outputs": [
    {
     "name": "stdout",
     "output_type": "stream",
     "text": [
      "The significant oscillation is in IMF4\n",
      "The period of the oscillation is 0.1694915254237288\n",
      "The timescales of each IMFs:\n",
      "[  0.021   0.042   0.084   0.168   0.336   0.672   1.344   2.688   5.376\n",
      "  10.752]\n"
     ]
    }
   ],
   "source": [
    "which_imf, period, timescales = find_imf_by_freq(0.007, 5.9)\n",
    "print('The significant oscillation is in IMF' + str(which_imf))\n",
    "print('The period of the oscillation is ' + str(period))\n",
    "print('The timescales of each IMFs:')\n",
    "print(timescales)"
   ]
  },
  {
   "cell_type": "code",
   "execution_count": 3,
   "metadata": {
    "collapsed": false
   },
   "outputs": [
    {
     "name": "stdout",
     "output_type": "stream",
     "text": [
      "The significant oscillation is in IMF6\n",
      "The period of the oscillation is 125\n",
      "The timescales of each IMFs:\n",
      "[    3.9999     7.9998    15.9996    31.9992    63.9984   127.9968\n",
      "   255.9936   511.9872  1023.9744  2047.9488]\n"
     ]
    }
   ],
   "source": [
    "which_imf, period, timescales = find_imf_by_period(1.3333, 125)\n",
    "print('The significant oscillation is in IMF' + str(which_imf))\n",
    "print('The period of the oscillation is ' + str(period))\n",
    "print('The timescales of each IMFs:')\n",
    "print(timescales)"
   ]
  },
  {
   "cell_type": "code",
   "execution_count": 4,
   "metadata": {
    "collapsed": false
   },
   "outputs": [
    {
     "name": "stdout",
     "output_type": "stream",
     "text": [
      "To locate the 2 Hz significant oscillation in the IMF5\n",
      ", extract 0.0104166666667s time resolution lightcurve.\n"
     ]
    }
   ],
   "source": [
    "freq = 2\n",
    "which_imf = 5\n",
    "dt = find_dt_by_freq(which_imf, freq)\n",
    "print('To locate the ' + str(freq) + ' Hz significant oscillation in the IMF' + str(which_imf))\n",
    "print(', extract ' + str(dt) + 's time resolution lightcurve.') "
   ]
  },
  {
   "cell_type": "code",
   "execution_count": 5,
   "metadata": {
    "collapsed": false
   },
   "outputs": [
    {
     "name": "stdout",
     "output_type": "stream",
     "text": [
      "To locate the 125 s significant oscillation in the IMF4\n",
      ", extract 5.20833333333s time resolution lightcurve.\n"
     ]
    }
   ],
   "source": [
    "period = 125\n",
    "which_imf = 4\n",
    "dt = find_dt_by_period(which_imf, period)\n",
    "print('To locate the ' + str(period) + ' s significant oscillation in the IMF' + str(which_imf))\n",
    "print(', extract ' + str(dt) + 's time resolution lightcurve.') "
   ]
  }
 ],
 "metadata": {
  "anaconda-cloud": {},
  "kernelspec": {
   "display_name": "Python [conda root]",
   "language": "python",
   "name": "conda-root-py"
  },
  "language_info": {
   "codemirror_mode": {
    "name": "ipython",
    "version": 3
   },
   "file_extension": ".py",
   "mimetype": "text/x-python",
   "name": "python",
   "nbconvert_exporter": "python",
   "pygments_lexer": "ipython3",
   "version": "3.5.2"
  }
 },
 "nbformat": 4,
 "nbformat_minor": 1
}
